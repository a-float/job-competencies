{
 "cells": [
  {
   "cell_type": "code",
   "execution_count": null,
   "metadata": {},
   "outputs": [],
   "source": [
    "import json\n",
    "from collections import Counter\n",
    "from tabulate import tabulate\n",
    "import matplotlib.pyplot as plt\n",
    "import numpy as np\n",
    "\n",
    "data = None\n",
    "with open('./data/result_offers.json', 'r', encoding=\"utf-8\") as f:\n",
    "    text = f.read()\n",
    "    data = json.loads(text)\n",
    "# print(json.dumps(data[0], indent=4, ensure_ascii=False))\n",
    "\n",
    "musts = []\n",
    "nices = []\n",
    "langs = []\n",
    "for item in data:\n",
    "    musts.extend(item[\"requirements\"][\"musts\"])\n",
    "    nices.extend(item[\"requirements\"][\"nices\"])\n",
    "    langs.extend(item[\"requirements\"][\"languages\"])\n"
   ]
  },
  {
   "cell_type": "code",
   "execution_count": null,
   "metadata": {},
   "outputs": [],
   "source": [
    "def get_avg_salary(item):\n",
    "    currency = item[\"essentials\"][\"salary\"][\"currency\"]\n",
    "    try:\n",
    "        range = item[\"essentials\"][\"salary\"][\"types\"][\"permanent\"][\"range\"]\n",
    "        return {\"currency\": currency, \"avg\": sum(map(int, range)) / len(range)}\n",
    "    except:\n",
    "        # print(item[\"essentials\"][\"salary\"][\"types\"])\n",
    "        return None\n",
    "\n",
    "\n",
    "def plot_against_salary(data, get_attr, title):\n",
    "    attrs = [get_attr(item) for item in data]\n",
    "    salary = [get_avg_salary(item) for item in data]\n",
    "    filtered = [item for item in salary if item is not None]\n",
    "    print(f\"Rejecting {len(salary) - len(filtered)} items.\\nPlotting {len(filtered)} items.\")\n",
    "\n",
    "    if next(filter(lambda x: x[\"currency\"] != \"PLN\", filtered), False):\n",
    "        raise ValueError(\"Found non PLN salary range\")\n",
    "\n",
    "    for i, attr in enumerate(sorted(set(attrs))):\n",
    "        xs, ys = [], []\n",
    "        for a in attrs:\n",
    "            if a != attr:\n",
    "                xs = [i for _ in filtered]\n",
    "                ys = [f['avg'] for f in filtered]\n",
    "        plt.scatter(xs, ys, s=60, label=attr, alpha=0.1, edgecolors='none')\n",
    "    plt.ylabel('Avgerage salary [PLN]')\n",
    "    plt.legend()\n",
    "    plt.xlim(-1, 2)\n",
    "    plt.title(title)\n",
    "\n",
    "\n",
    "plot_against_salary(\n",
    "    data, lambda x: \"Yes\" if x[\"location\"][\"remote\"] else \"No\", title=\"Salary vs remote work\")"
   ]
  },
  {
   "cell_type": "code",
   "execution_count": null,
   "metadata": {},
   "outputs": [],
   "source": [
    "print(f\"Musts: {len(musts)}\\nNices: {len(nices)}\")\n",
    "\n",
    "def plot_reqs(reqs, title, col=\"plasma\"):\n",
    "    counter = Counter([m[\"value\"] for m in reqs])\n",
    "    names = sorted(list(counter), key=lambda x: -counter[x])[:50]\n",
    "    names = list(reversed(names))\n",
    "    values = [counter[name] for name in names]\n",
    "\n",
    "    if col == \"plasma\":\n",
    "        gradient = np.linspace(0, 0.7, len(names))\n",
    "        colors = plt.cm.plasma(gradient)\n",
    "    else:\n",
    "        gradient = np.linspace(0, 0.7, len(names))\n",
    "        colors = plt.cm.viridis(gradient)\n",
    "        \n",
    "    plt.figure(figsize=(12, len(names) // 4))\n",
    "    bars = plt.barh(names, values, color=colors)\n",
    "\n",
    "    # Adding values on bars\n",
    "    for bar, value in zip(bars, values):\n",
    "        plt.text(bar.get_width() + 1, bar.get_y() + bar.get_height() / 2, f'{value}',\n",
    "                 va='center', ha='left')\n",
    "\n",
    "    plt.margins(y=0.01)\n",
    "    plt.xlabel('Appearances')\n",
    "    plt.ylabel('Skill')\n",
    "    plt.title(title)\n",
    "\n",
    "\n",
    "plot_reqs(musts, \"Must have skills appearances\", col=\"plasma\")\n",
    "plot_reqs(nices, \"Nice to have skill appearances\", col=\"viridis\")"
   ]
  },
  {
   "cell_type": "code",
   "execution_count": null,
   "metadata": {},
   "outputs": [],
   "source": [
    "print(len(langs), len(data), f\"\\nAvg lang per offer: {len(langs) / len(data):.3f}\\n\")\n",
    "counter = Counter([lang[\"code\"] for lang in langs])\n",
    "names = sorted(list(counter), key=lambda x: -counter[x])\n",
    "levels = [\"NA\", \"A1\", \"A2\", \"B1\", \"B2\", \"C1\", \"C2\", \"NATIVE\"]\n",
    "table = [[level] + [len([lang for lang in langs if lang[\"code\"] == code and lang.get(\"level\", \"NA\") == level]) for code in names] for level in levels]\n",
    "table.append([\"Total\"] + [counter[x] for x in names])\n",
    "print(tabulate(table, headers=[\"\"] + names))"
   ]
  }
 ],
 "metadata": {
  "kernelspec": {
   "display_name": "Python 3",
   "language": "python",
   "name": "python3"
  },
  "language_info": {
   "codemirror_mode": {
    "name": "ipython",
    "version": 3
   },
   "file_extension": ".py",
   "mimetype": "text/x-python",
   "name": "python",
   "nbconvert_exporter": "python",
   "pygments_lexer": "ipython3",
   "version": "3.12.2"
  }
 },
 "nbformat": 4,
 "nbformat_minor": 2
}
